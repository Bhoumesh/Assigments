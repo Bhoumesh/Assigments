{
 "cells": [
  {
   "cell_type": "markdown",
   "id": "c4114e90",
   "metadata": {},
   "source": [
    "## Assignment 1 – Working with NumPy"
   ]
  },
  {
   "cell_type": "markdown",
   "id": "2ae7207f",
   "metadata": {},
   "source": [
    "### 1. 1D NumPy Array Operations"
   ]
  },
  {
   "cell_type": "code",
   "execution_count": 2,
   "id": "25fd9f2a",
   "metadata": {},
   "outputs": [
    {
     "data": {
      "text/plain": [
       "(210,\n",
       " 10.5,\n",
       " 10.5,\n",
       " 5.766281297335398,\n",
       " (array([10, 11, 12, 13, 14, 15, 16, 17, 18, 19], dtype=int64),))"
      ]
     },
     "execution_count": 2,
     "metadata": {},
     "output_type": "execute_result"
    }
   ],
   "source": [
    "\n",
    "import numpy as np\n",
    "\n",
    "# Create a 1D array with integers from 1 to 20\n",
    "arr = np.arange(1, 21)\n",
    "\n",
    "# Sum, mean, median, standard deviation\n",
    "sum_arr = arr.sum()\n",
    "mean_arr = arr.mean()\n",
    "median_arr = np.median(arr)\n",
    "std_arr = arr.std()\n",
    "\n",
    "# Indices of elements greater than 10\n",
    "indices_gt_10 = np.where(arr > 10)\n",
    "\n",
    "sum_arr, mean_arr, median_arr, std_arr, indices_gt_10\n"
   ]
  },
  {
   "cell_type": "markdown",
   "id": "5615e55a",
   "metadata": {},
   "source": [
    "### 2. 2D NumPy Array Operations"
   ]
  },
  {
   "cell_type": "code",
   "execution_count": 3,
   "id": "11457f85",
   "metadata": {},
   "outputs": [
    {
     "data": {
      "text/plain": [
       "array([[ 1,  2,  3,  4],\n",
       "       [ 5,  6,  7,  8],\n",
       "       [ 9, 10, 11, 12],\n",
       "       [13, 14, 15, 16]])"
      ]
     },
     "execution_count": 3,
     "metadata": {},
     "output_type": "execute_result"
    }
   ],
   "source": [
    "\n",
    "# Create a 4x4 array with numbers from 1 to 16\n",
    "arr_2d = np.arange(1, 17).reshape(4, 4)\n",
    "arr_2d\n"
   ]
  },
  {
   "cell_type": "code",
   "execution_count": 4,
   "id": "f97cdaa1",
   "metadata": {},
   "outputs": [
    {
     "data": {
      "text/plain": [
       "array([[ 1,  5,  9, 13],\n",
       "       [ 2,  6, 10, 14],\n",
       "       [ 3,  7, 11, 15],\n",
       "       [ 4,  8, 12, 16]])"
      ]
     },
     "execution_count": 4,
     "metadata": {},
     "output_type": "execute_result"
    }
   ],
   "source": [
    "arr_2d.T  # Transpose"
   ]
  },
  {
   "cell_type": "code",
   "execution_count": 5,
   "id": "52cf4081",
   "metadata": {},
   "outputs": [
    {
     "data": {
      "text/plain": [
       "(array([10, 26, 42, 58]), array([28, 32, 36, 40]))"
      ]
     },
     "execution_count": 5,
     "metadata": {},
     "output_type": "execute_result"
    }
   ],
   "source": [
    "arr_2d.sum(axis=1), arr_2d.sum(axis=0)  # Row sums, Column sums"
   ]
  },
  {
   "cell_type": "markdown",
   "id": "0abf700f",
   "metadata": {},
   "source": [
    "### 3. Operations on Random 3x3 Arrays"
   ]
  },
  {
   "cell_type": "code",
   "execution_count": 6,
   "id": "21776964",
   "metadata": {},
   "outputs": [
    {
     "data": {
      "text/plain": [
       "(array([[14, 18,  8],\n",
       "        [18, 11,  6],\n",
       "        [15, 19, 14]]),\n",
       " array([[19,  5, 12],\n",
       "        [14, 15, 19],\n",
       "        [10, 13,  2]]))"
      ]
     },
     "execution_count": 6,
     "metadata": {},
     "output_type": "execute_result"
    }
   ],
   "source": [
    "\n",
    "# Create two random 3x3 arrays with values between 1 and 20\n",
    "array1 = np.random.randint(1, 21, (3, 3))\n",
    "array2 = np.random.randint(1, 21, (3, 3))\n",
    "\n",
    "array1, array2\n"
   ]
  },
  {
   "cell_type": "code",
   "execution_count": 7,
   "id": "e9c9df3a",
   "metadata": {},
   "outputs": [
    {
     "data": {
      "text/plain": [
       "array([[33, 23, 20],\n",
       "       [32, 26, 25],\n",
       "       [25, 32, 16]])"
      ]
     },
     "execution_count": 7,
     "metadata": {},
     "output_type": "execute_result"
    }
   ],
   "source": [
    "array1 + array2  # Addition"
   ]
  },
  {
   "cell_type": "code",
   "execution_count": 8,
   "id": "e9ca7654",
   "metadata": {},
   "outputs": [
    {
     "data": {
      "text/plain": [
       "array([[ -5,  13,  -4],\n",
       "       [  4,  -4, -13],\n",
       "       [  5,   6,  12]])"
      ]
     },
     "execution_count": 8,
     "metadata": {},
     "output_type": "execute_result"
    }
   ],
   "source": [
    "array1 - array2  # Subtraction"
   ]
  },
  {
   "cell_type": "code",
   "execution_count": 9,
   "id": "09771618",
   "metadata": {},
   "outputs": [
    {
     "data": {
      "text/plain": [
       "array([[266,  90,  96],\n",
       "       [252, 165, 114],\n",
       "       [150, 247,  28]])"
      ]
     },
     "execution_count": 9,
     "metadata": {},
     "output_type": "execute_result"
    }
   ],
   "source": [
    "array1 * array2  # Multiplication"
   ]
  },
  {
   "cell_type": "code",
   "execution_count": 10,
   "id": "2b32a9ad",
   "metadata": {},
   "outputs": [
    {
     "data": {
      "text/plain": [
       "array([[598, 444, 526],\n",
       "       [556, 333, 437],\n",
       "       [691, 542, 569]])"
      ]
     },
     "execution_count": 10,
     "metadata": {},
     "output_type": "execute_result"
    }
   ],
   "source": [
    "np.dot(array1, array2)  # Dot product"
   ]
  },
  {
   "cell_type": "markdown",
   "id": "cf243a43",
   "metadata": {},
   "source": [
    "### 4. Reshape and Slice"
   ]
  },
  {
   "cell_type": "code",
   "execution_count": 11,
   "id": "4b9d0056",
   "metadata": {},
   "outputs": [
    {
     "data": {
      "text/plain": [
       "(array([[ 1,  2,  3,  4],\n",
       "        [ 5,  6,  7,  8],\n",
       "        [ 9, 10, 11, 12]]),\n",
       " array([[3, 4],\n",
       "        [7, 8]]))"
      ]
     },
     "execution_count": 11,
     "metadata": {},
     "output_type": "execute_result"
    }
   ],
   "source": [
    "\n",
    "# Reshape a 1D array of size 12 to 3 x 4\n",
    "arr_1d = np.arange(1, 13)\n",
    "arr_reshaped = arr_1d.reshape(3, 4)\n",
    "\n",
    "# Slice: first two rows, last two columns\n",
    "sliced = arr_reshaped[:2, -2:]\n",
    "arr_reshaped, sliced\n"
   ]
  },
  {
   "cell_type": "markdown",
   "id": "64133468",
   "metadata": {},
   "source": [
    "This reshapes a 1D array into 3x4 and slices out the top two rows and rightmost two columns."
   ]
  },
  {
   "cell_type": "markdown",
   "id": "9f9a6662",
   "metadata": {},
   "source": [
    "## Assignment 2 – Working with Pandas"
   ]
  },
  {
   "cell_type": "code",
   "execution_count": 12,
   "id": "7c2d46b1",
   "metadata": {},
   "outputs": [
    {
     "data": {
      "application/vnd.microsoft.datawrangler.viewer.v0+json": {
       "columns": [
        {
         "name": "index",
         "rawType": "int64",
         "type": "integer"
        },
        {
         "name": "Name",
         "rawType": "object",
         "type": "string"
        },
        {
         "name": "Age",
         "rawType": "int64",
         "type": "integer"
        },
        {
         "name": "Department",
         "rawType": "object",
         "type": "string"
        },
        {
         "name": "Salary",
         "rawType": "int64",
         "type": "integer"
        }
       ],
       "ref": "1cd36290-ee92-4cea-8e66-806368412456",
       "rows": [
        [
         "0",
         "Alice",
         "24",
         "HR",
         "45000"
        ],
        [
         "1",
         "Bob",
         "27",
         "Finance",
         "54000"
        ],
        [
         "2",
         "Charlie",
         "22",
         "IT",
         "50000"
        ],
        [
         "3",
         "Diana",
         "32",
         "Marketing",
         "62000"
        ],
        [
         "4",
         "Eve",
         "29",
         "HR",
         "47000"
        ]
       ],
       "shape": {
        "columns": 4,
        "rows": 5
       }
      },
      "text/html": [
       "<div>\n",
       "<style scoped>\n",
       "    .dataframe tbody tr th:only-of-type {\n",
       "        vertical-align: middle;\n",
       "    }\n",
       "\n",
       "    .dataframe tbody tr th {\n",
       "        vertical-align: top;\n",
       "    }\n",
       "\n",
       "    .dataframe thead th {\n",
       "        text-align: right;\n",
       "    }\n",
       "</style>\n",
       "<table border=\"1\" class=\"dataframe\">\n",
       "  <thead>\n",
       "    <tr style=\"text-align: right;\">\n",
       "      <th></th>\n",
       "      <th>Name</th>\n",
       "      <th>Age</th>\n",
       "      <th>Department</th>\n",
       "      <th>Salary</th>\n",
       "    </tr>\n",
       "  </thead>\n",
       "  <tbody>\n",
       "    <tr>\n",
       "      <th>0</th>\n",
       "      <td>Alice</td>\n",
       "      <td>24</td>\n",
       "      <td>HR</td>\n",
       "      <td>45000</td>\n",
       "    </tr>\n",
       "    <tr>\n",
       "      <th>1</th>\n",
       "      <td>Bob</td>\n",
       "      <td>27</td>\n",
       "      <td>Finance</td>\n",
       "      <td>54000</td>\n",
       "    </tr>\n",
       "    <tr>\n",
       "      <th>2</th>\n",
       "      <td>Charlie</td>\n",
       "      <td>22</td>\n",
       "      <td>IT</td>\n",
       "      <td>50000</td>\n",
       "    </tr>\n",
       "    <tr>\n",
       "      <th>3</th>\n",
       "      <td>Diana</td>\n",
       "      <td>32</td>\n",
       "      <td>Marketing</td>\n",
       "      <td>62000</td>\n",
       "    </tr>\n",
       "    <tr>\n",
       "      <th>4</th>\n",
       "      <td>Eve</td>\n",
       "      <td>29</td>\n",
       "      <td>HR</td>\n",
       "      <td>47000</td>\n",
       "    </tr>\n",
       "  </tbody>\n",
       "</table>\n",
       "</div>"
      ],
      "text/plain": [
       "      Name  Age Department  Salary\n",
       "0    Alice   24         HR   45000\n",
       "1      Bob   27    Finance   54000\n",
       "2  Charlie   22         IT   50000\n",
       "3    Diana   32  Marketing   62000\n",
       "4      Eve   29         HR   47000"
      ]
     },
     "execution_count": 12,
     "metadata": {},
     "output_type": "execute_result"
    }
   ],
   "source": [
    "\n",
    "import pandas as pd\n",
    "\n",
    "# Create DataFrame\n",
    "data = {\n",
    "    'Name': ['Alice', 'Bob', 'Charlie', 'Diana', 'Eve'],\n",
    "    'Age': [24, 27, 22, 32, 29],\n",
    "    'Department': ['HR', 'Finance', 'IT', 'Marketing', 'HR'],\n",
    "    'Salary': [45000, 54000, 50000, 62000, 47000]\n",
    "}\n",
    "df = pd.DataFrame(data)\n",
    "df\n"
   ]
  },
  {
   "cell_type": "code",
   "execution_count": 13,
   "id": "293a3a80",
   "metadata": {},
   "outputs": [
    {
     "data": {
      "application/vnd.microsoft.datawrangler.viewer.v0+json": {
       "columns": [
        {
         "name": "index",
         "rawType": "object",
         "type": "string"
        },
        {
         "name": "Age",
         "rawType": "float64",
         "type": "float"
        },
        {
         "name": "Salary",
         "rawType": "float64",
         "type": "float"
        }
       ],
       "ref": "7ec75d4f-6854-42cd-8db9-2243f7dcab91",
       "rows": [
        [
         "count",
         "5.0",
         "5.0"
        ],
        [
         "mean",
         "26.8",
         "51600.0"
        ],
        [
         "std",
         "3.96232255123179",
         "6730.527468185536"
        ],
        [
         "min",
         "22.0",
         "45000.0"
        ],
        [
         "25%",
         "24.0",
         "47000.0"
        ],
        [
         "50%",
         "27.0",
         "50000.0"
        ],
        [
         "75%",
         "29.0",
         "54000.0"
        ],
        [
         "max",
         "32.0",
         "62000.0"
        ]
       ],
       "shape": {
        "columns": 2,
        "rows": 8
       }
      },
      "text/html": [
       "<div>\n",
       "<style scoped>\n",
       "    .dataframe tbody tr th:only-of-type {\n",
       "        vertical-align: middle;\n",
       "    }\n",
       "\n",
       "    .dataframe tbody tr th {\n",
       "        vertical-align: top;\n",
       "    }\n",
       "\n",
       "    .dataframe thead th {\n",
       "        text-align: right;\n",
       "    }\n",
       "</style>\n",
       "<table border=\"1\" class=\"dataframe\">\n",
       "  <thead>\n",
       "    <tr style=\"text-align: right;\">\n",
       "      <th></th>\n",
       "      <th>Age</th>\n",
       "      <th>Salary</th>\n",
       "    </tr>\n",
       "  </thead>\n",
       "  <tbody>\n",
       "    <tr>\n",
       "      <th>count</th>\n",
       "      <td>5.000000</td>\n",
       "      <td>5.000000</td>\n",
       "    </tr>\n",
       "    <tr>\n",
       "      <th>mean</th>\n",
       "      <td>26.800000</td>\n",
       "      <td>51600.000000</td>\n",
       "    </tr>\n",
       "    <tr>\n",
       "      <th>std</th>\n",
       "      <td>3.962323</td>\n",
       "      <td>6730.527468</td>\n",
       "    </tr>\n",
       "    <tr>\n",
       "      <th>min</th>\n",
       "      <td>22.000000</td>\n",
       "      <td>45000.000000</td>\n",
       "    </tr>\n",
       "    <tr>\n",
       "      <th>25%</th>\n",
       "      <td>24.000000</td>\n",
       "      <td>47000.000000</td>\n",
       "    </tr>\n",
       "    <tr>\n",
       "      <th>50%</th>\n",
       "      <td>27.000000</td>\n",
       "      <td>50000.000000</td>\n",
       "    </tr>\n",
       "    <tr>\n",
       "      <th>75%</th>\n",
       "      <td>29.000000</td>\n",
       "      <td>54000.000000</td>\n",
       "    </tr>\n",
       "    <tr>\n",
       "      <th>max</th>\n",
       "      <td>32.000000</td>\n",
       "      <td>62000.000000</td>\n",
       "    </tr>\n",
       "  </tbody>\n",
       "</table>\n",
       "</div>"
      ],
      "text/plain": [
       "             Age        Salary\n",
       "count   5.000000      5.000000\n",
       "mean   26.800000  51600.000000\n",
       "std     3.962323   6730.527468\n",
       "min    22.000000  45000.000000\n",
       "25%    24.000000  47000.000000\n",
       "50%    27.000000  50000.000000\n",
       "75%    29.000000  54000.000000\n",
       "max    32.000000  62000.000000"
      ]
     },
     "execution_count": 13,
     "metadata": {},
     "output_type": "execute_result"
    }
   ],
   "source": [
    "df[['Age', 'Salary']].describe()  # Summary statistics"
   ]
  },
  {
   "cell_type": "code",
   "execution_count": 14,
   "id": "11ef7331",
   "metadata": {},
   "outputs": [
    {
     "data": {
      "text/plain": [
       "46000.0"
      ]
     },
     "execution_count": 14,
     "metadata": {},
     "output_type": "execute_result"
    }
   ],
   "source": [
    "df[df['Department'] == 'HR']['Salary'].mean()  # Average HR salary"
   ]
  },
  {
   "cell_type": "code",
   "execution_count": 15,
   "id": "5e65a0a9",
   "metadata": {},
   "outputs": [
    {
     "data": {
      "application/vnd.microsoft.datawrangler.viewer.v0+json": {
       "columns": [
        {
         "name": "index",
         "rawType": "int64",
         "type": "integer"
        },
        {
         "name": "Name",
         "rawType": "object",
         "type": "string"
        },
        {
         "name": "Age",
         "rawType": "int64",
         "type": "integer"
        },
        {
         "name": "Department",
         "rawType": "object",
         "type": "string"
        },
        {
         "name": "Salary",
         "rawType": "int64",
         "type": "integer"
        },
        {
         "name": "Bonus",
         "rawType": "float64",
         "type": "float"
        }
       ],
       "ref": "24aa4bee-2641-4d61-8590-7f18d8589b00",
       "rows": [
        [
         "0",
         "Alice",
         "24",
         "HR",
         "45000",
         "4500.0"
        ],
        [
         "1",
         "Bob",
         "27",
         "Finance",
         "54000",
         "5400.0"
        ],
        [
         "2",
         "Charlie",
         "22",
         "IT",
         "50000",
         "5000.0"
        ],
        [
         "3",
         "Diana",
         "32",
         "Marketing",
         "62000",
         "6200.0"
        ],
        [
         "4",
         "Eve",
         "29",
         "HR",
         "47000",
         "4700.0"
        ]
       ],
       "shape": {
        "columns": 5,
        "rows": 5
       }
      },
      "text/html": [
       "<div>\n",
       "<style scoped>\n",
       "    .dataframe tbody tr th:only-of-type {\n",
       "        vertical-align: middle;\n",
       "    }\n",
       "\n",
       "    .dataframe tbody tr th {\n",
       "        vertical-align: top;\n",
       "    }\n",
       "\n",
       "    .dataframe thead th {\n",
       "        text-align: right;\n",
       "    }\n",
       "</style>\n",
       "<table border=\"1\" class=\"dataframe\">\n",
       "  <thead>\n",
       "    <tr style=\"text-align: right;\">\n",
       "      <th></th>\n",
       "      <th>Name</th>\n",
       "      <th>Age</th>\n",
       "      <th>Department</th>\n",
       "      <th>Salary</th>\n",
       "      <th>Bonus</th>\n",
       "    </tr>\n",
       "  </thead>\n",
       "  <tbody>\n",
       "    <tr>\n",
       "      <th>0</th>\n",
       "      <td>Alice</td>\n",
       "      <td>24</td>\n",
       "      <td>HR</td>\n",
       "      <td>45000</td>\n",
       "      <td>4500.0</td>\n",
       "    </tr>\n",
       "    <tr>\n",
       "      <th>1</th>\n",
       "      <td>Bob</td>\n",
       "      <td>27</td>\n",
       "      <td>Finance</td>\n",
       "      <td>54000</td>\n",
       "      <td>5400.0</td>\n",
       "    </tr>\n",
       "    <tr>\n",
       "      <th>2</th>\n",
       "      <td>Charlie</td>\n",
       "      <td>22</td>\n",
       "      <td>IT</td>\n",
       "      <td>50000</td>\n",
       "      <td>5000.0</td>\n",
       "    </tr>\n",
       "    <tr>\n",
       "      <th>3</th>\n",
       "      <td>Diana</td>\n",
       "      <td>32</td>\n",
       "      <td>Marketing</td>\n",
       "      <td>62000</td>\n",
       "      <td>6200.0</td>\n",
       "    </tr>\n",
       "    <tr>\n",
       "      <th>4</th>\n",
       "      <td>Eve</td>\n",
       "      <td>29</td>\n",
       "      <td>HR</td>\n",
       "      <td>47000</td>\n",
       "      <td>4700.0</td>\n",
       "    </tr>\n",
       "  </tbody>\n",
       "</table>\n",
       "</div>"
      ],
      "text/plain": [
       "      Name  Age Department  Salary   Bonus\n",
       "0    Alice   24         HR   45000  4500.0\n",
       "1      Bob   27    Finance   54000  5400.0\n",
       "2  Charlie   22         IT   50000  5000.0\n",
       "3    Diana   32  Marketing   62000  6200.0\n",
       "4      Eve   29         HR   47000  4700.0"
      ]
     },
     "execution_count": 15,
     "metadata": {},
     "output_type": "execute_result"
    }
   ],
   "source": [
    "df['Bonus'] = df['Salary'] * 0.10; df  # Add Bonus column"
   ]
  },
  {
   "cell_type": "code",
   "execution_count": 16,
   "id": "2a95aa1f",
   "metadata": {},
   "outputs": [
    {
     "data": {
      "application/vnd.microsoft.datawrangler.viewer.v0+json": {
       "columns": [
        {
         "name": "index",
         "rawType": "int64",
         "type": "integer"
        },
        {
         "name": "Name",
         "rawType": "object",
         "type": "string"
        },
        {
         "name": "Age",
         "rawType": "int64",
         "type": "integer"
        },
        {
         "name": "Department",
         "rawType": "object",
         "type": "string"
        },
        {
         "name": "Salary",
         "rawType": "int64",
         "type": "integer"
        },
        {
         "name": "Bonus",
         "rawType": "float64",
         "type": "float"
        }
       ],
       "ref": "5618a836-9316-426e-8cf6-fea699471547",
       "rows": [
        [
         "1",
         "Bob",
         "27",
         "Finance",
         "54000",
         "5400.0"
        ],
        [
         "4",
         "Eve",
         "29",
         "HR",
         "47000",
         "4700.0"
        ]
       ],
       "shape": {
        "columns": 5,
        "rows": 2
       }
      },
      "text/html": [
       "<div>\n",
       "<style scoped>\n",
       "    .dataframe tbody tr th:only-of-type {\n",
       "        vertical-align: middle;\n",
       "    }\n",
       "\n",
       "    .dataframe tbody tr th {\n",
       "        vertical-align: top;\n",
       "    }\n",
       "\n",
       "    .dataframe thead th {\n",
       "        text-align: right;\n",
       "    }\n",
       "</style>\n",
       "<table border=\"1\" class=\"dataframe\">\n",
       "  <thead>\n",
       "    <tr style=\"text-align: right;\">\n",
       "      <th></th>\n",
       "      <th>Name</th>\n",
       "      <th>Age</th>\n",
       "      <th>Department</th>\n",
       "      <th>Salary</th>\n",
       "      <th>Bonus</th>\n",
       "    </tr>\n",
       "  </thead>\n",
       "  <tbody>\n",
       "    <tr>\n",
       "      <th>1</th>\n",
       "      <td>Bob</td>\n",
       "      <td>27</td>\n",
       "      <td>Finance</td>\n",
       "      <td>54000</td>\n",
       "      <td>5400.0</td>\n",
       "    </tr>\n",
       "    <tr>\n",
       "      <th>4</th>\n",
       "      <td>Eve</td>\n",
       "      <td>29</td>\n",
       "      <td>HR</td>\n",
       "      <td>47000</td>\n",
       "      <td>4700.0</td>\n",
       "    </tr>\n",
       "  </tbody>\n",
       "</table>\n",
       "</div>"
      ],
      "text/plain": [
       "  Name  Age Department  Salary   Bonus\n",
       "1  Bob   27    Finance   54000  5400.0\n",
       "4  Eve   29         HR   47000  4700.0"
      ]
     },
     "execution_count": 16,
     "metadata": {},
     "output_type": "execute_result"
    }
   ],
   "source": [
    "df[(df['Age'] >= 25) & (df['Age'] <= 30)]  # Filter by Age"
   ]
  },
  {
   "cell_type": "code",
   "execution_count": 17,
   "id": "9c00d95f",
   "metadata": {},
   "outputs": [
    {
     "data": {
      "application/vnd.microsoft.datawrangler.viewer.v0+json": {
       "columns": [
        {
         "name": "Department",
         "rawType": "object",
         "type": "string"
        },
        {
         "name": "Salary",
         "rawType": "float64",
         "type": "float"
        }
       ],
       "ref": "e9d062d1-a447-4aa6-90ea-1755b3e152d2",
       "rows": [
        [
         "Finance",
         "54000.0"
        ],
        [
         "HR",
         "46000.0"
        ],
        [
         "IT",
         "50000.0"
        ],
        [
         "Marketing",
         "62000.0"
        ]
       ],
       "shape": {
        "columns": 1,
        "rows": 4
       }
      },
      "text/plain": [
       "Department\n",
       "Finance      54000.0\n",
       "HR           46000.0\n",
       "IT           50000.0\n",
       "Marketing    62000.0\n",
       "Name: Salary, dtype: float64"
      ]
     },
     "execution_count": 17,
     "metadata": {},
     "output_type": "execute_result"
    }
   ],
   "source": [
    "df.groupby('Department')['Salary'].mean()  # Group by Department"
   ]
  },
  {
   "cell_type": "code",
   "execution_count": 18,
   "id": "e58e0427",
   "metadata": {},
   "outputs": [
    {
     "data": {
      "application/vnd.microsoft.datawrangler.viewer.v0+json": {
       "columns": [
        {
         "name": "index",
         "rawType": "int64",
         "type": "integer"
        },
        {
         "name": "Name",
         "rawType": "object",
         "type": "string"
        },
        {
         "name": "Age",
         "rawType": "int64",
         "type": "integer"
        },
        {
         "name": "Department",
         "rawType": "object",
         "type": "string"
        },
        {
         "name": "Salary",
         "rawType": "int64",
         "type": "integer"
        },
        {
         "name": "Bonus",
         "rawType": "float64",
         "type": "float"
        }
       ],
       "ref": "587361bc-41bb-46be-8102-299d89d2ab95",
       "rows": [
        [
         "0",
         "Alice",
         "24",
         "HR",
         "45000",
         "4500.0"
        ],
        [
         "4",
         "Eve",
         "29",
         "HR",
         "47000",
         "4700.0"
        ],
        [
         "2",
         "Charlie",
         "22",
         "IT",
         "50000",
         "5000.0"
        ],
        [
         "1",
         "Bob",
         "27",
         "Finance",
         "54000",
         "5400.0"
        ],
        [
         "3",
         "Diana",
         "32",
         "Marketing",
         "62000",
         "6200.0"
        ]
       ],
       "shape": {
        "columns": 5,
        "rows": 5
       }
      },
      "text/html": [
       "<div>\n",
       "<style scoped>\n",
       "    .dataframe tbody tr th:only-of-type {\n",
       "        vertical-align: middle;\n",
       "    }\n",
       "\n",
       "    .dataframe tbody tr th {\n",
       "        vertical-align: top;\n",
       "    }\n",
       "\n",
       "    .dataframe thead th {\n",
       "        text-align: right;\n",
       "    }\n",
       "</style>\n",
       "<table border=\"1\" class=\"dataframe\">\n",
       "  <thead>\n",
       "    <tr style=\"text-align: right;\">\n",
       "      <th></th>\n",
       "      <th>Name</th>\n",
       "      <th>Age</th>\n",
       "      <th>Department</th>\n",
       "      <th>Salary</th>\n",
       "      <th>Bonus</th>\n",
       "    </tr>\n",
       "  </thead>\n",
       "  <tbody>\n",
       "    <tr>\n",
       "      <th>0</th>\n",
       "      <td>Alice</td>\n",
       "      <td>24</td>\n",
       "      <td>HR</td>\n",
       "      <td>45000</td>\n",
       "      <td>4500.0</td>\n",
       "    </tr>\n",
       "    <tr>\n",
       "      <th>4</th>\n",
       "      <td>Eve</td>\n",
       "      <td>29</td>\n",
       "      <td>HR</td>\n",
       "      <td>47000</td>\n",
       "      <td>4700.0</td>\n",
       "    </tr>\n",
       "    <tr>\n",
       "      <th>2</th>\n",
       "      <td>Charlie</td>\n",
       "      <td>22</td>\n",
       "      <td>IT</td>\n",
       "      <td>50000</td>\n",
       "      <td>5000.0</td>\n",
       "    </tr>\n",
       "    <tr>\n",
       "      <th>1</th>\n",
       "      <td>Bob</td>\n",
       "      <td>27</td>\n",
       "      <td>Finance</td>\n",
       "      <td>54000</td>\n",
       "      <td>5400.0</td>\n",
       "    </tr>\n",
       "    <tr>\n",
       "      <th>3</th>\n",
       "      <td>Diana</td>\n",
       "      <td>32</td>\n",
       "      <td>Marketing</td>\n",
       "      <td>62000</td>\n",
       "      <td>6200.0</td>\n",
       "    </tr>\n",
       "  </tbody>\n",
       "</table>\n",
       "</div>"
      ],
      "text/plain": [
       "      Name  Age Department  Salary   Bonus\n",
       "0    Alice   24         HR   45000  4500.0\n",
       "4      Eve   29         HR   47000  4700.0\n",
       "2  Charlie   22         IT   50000  5000.0\n",
       "1      Bob   27    Finance   54000  5400.0\n",
       "3    Diana   32  Marketing   62000  6200.0"
      ]
     },
     "execution_count": 18,
     "metadata": {},
     "output_type": "execute_result"
    }
   ],
   "source": [
    "sorted_df = df.sort_values(by='Salary'); sorted_df.to_csv('sorted_employees.csv', index=False); sorted_df"
   ]
  },
  {
   "cell_type": "markdown",
   "id": "47797140",
   "metadata": {},
   "source": [
    "## Assignment 3 – Working with Matplotlib"
   ]
  },
  {
   "cell_type": "code",
   "execution_count": 19,
   "id": "0a64e249",
   "metadata": {},
   "outputs": [
    {
     "data": {
      "image/png": "[encoded data removed]",
      "text/plain": [
       "<Figure size 640x480 with 1 Axes>"
      ]
     },
     "metadata": {},
     "output_type": "display_data"
    }
   ],
   "source": [
    "\n",
    "import matplotlib.pyplot as plt\n",
    "import numpy as np\n",
    "\n",
    "# 1. Line plot\n",
    "x = [1, 2, 3, 4, 5]\n",
    "y = [10, 15, 25, 30, 50]\n",
    "\n",
    "plt.plot(x, y, marker='o')\n",
    "plt.title('Simple Line Plot')\n",
    "plt.xlabel('X-axis')\n",
    "plt.ylabel('Y-axis')\n",
    "plt.grid(True)\n",
    "plt.show()\n"
   ]
  },
  {
   "cell_type": "code",
   "execution_count": 20,
   "id": "18b89558",
   "metadata": {},
   "outputs": [
    {
     "data": {
      "image/png": "[encoded data removed]",
      "text/plain": [
       "<Figure size 640x480 with 1 Axes>"
      ]
     },
     "metadata": {},
     "output_type": "display_data"
    }
   ],
   "source": [
    "\n",
    "# 2. Bar graph\n",
    "students = ['John', 'Jane', 'Alice', 'Bob']\n",
    "marks = [75, 85, 60, 90]\n",
    "\n",
    "plt.bar(students, marks, color=['blue', 'green', 'red', 'purple'])\n",
    "plt.title('Marks Scored by Students')\n",
    "plt.ylabel('Marks')\n",
    "plt.show()\n"
   ]
  },
  {
   "cell_type": "code",
   "execution_count": 21,
   "id": "0ec6dab9",
   "metadata": {},
   "outputs": [
    {
     "data": {
      "image/png": "[encoded data removed]",
      "text/plain": [
       "<Figure size 640x480 with 1 Axes>"
      ]
     },
     "metadata": {},
     "output_type": "display_data"
    }
   ],
   "source": [
    "\n",
    "# 3. Pie chart\n",
    "regions = ['North America', 'Europe', 'Asia', 'Others']\n",
    "revenue = [45, 25, 20, 10]\n",
    "\n",
    "explode = [0.1 if i == np.argmax(revenue) else 0 for i in range(len(revenue))]\n",
    "plt.pie(revenue, labels=regions, autopct='%1.1f%%', explode=explode)\n",
    "plt.title(\"Company Revenue by Region\")\n",
    "plt.show()\n"
   ]
  },
  {
   "cell_type": "code",
   "execution_count": 22,
   "id": "e37e2ab4",
   "metadata": {},
   "outputs": [
    {
     "data": {
      "image/png": "[encoded data removed]",
      "text/plain": [
       "<Figure size 640x480 with 1 Axes>"
      ]
     },
     "metadata": {},
     "output_type": "display_data"
    }
   ],
   "source": [
    "\n",
    "# 4. Histogram\n",
    "data = np.random.randint(1, 101, 1000)\n",
    "plt.hist(data, bins=20, edgecolor='black')\n",
    "plt.title('Histogram of Random Integers')\n",
    "plt.xlabel('Value')\n",
    "plt.ylabel('Frequency')\n",
    "plt.show()\n"
   ]
  }
 ],
 "metadata": {
  "kernelspec": {
   "display_name": "base",
   "language": "python",
   "name": "python3"
  },
  "language_info": {
   "codemirror_mode": {
    "name": "ipython",
    "version": 3
   },
   "file_extension": ".py",
   "mimetype": "text/x-python",
   "name": "python",
   "nbconvert_exporter": "python",
   "pygments_lexer": "ipython3",
   "version": "3.12.7"
  }
 },
 "nbformat": 4,
 "nbformat_minor": 5
}
